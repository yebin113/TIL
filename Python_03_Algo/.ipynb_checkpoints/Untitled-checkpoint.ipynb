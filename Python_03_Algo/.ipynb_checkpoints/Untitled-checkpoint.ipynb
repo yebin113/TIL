{
 "cells": [
  {
   "cell_type": "code",
   "execution_count": null,
   "id": "2b47c3ff-5775-4ca4-ab31-a9c529e0c523",
   "metadata": {},
   "outputs": [],
   "source": [
    "arr = ['Fish',''And',"
   ]
  },
  {
   "cell_type": "code",
   "execution_count": null,
   "id": "60828d1c-d244-4e13-9a57-a797d2aac39f",
   "metadata": {},
   "outputs": [],
   "source": [
    "# 1 << 2의 의미"
   ]
  },
  {
   "cell_type": "code",
   "execution_count": null,
   "id": "43d3888b-8058-4f65-8591-65410c373233",
   "metadata": {},
   "outputs": [],
   "source": [
    "N = 3\n",
    "print(1 << N)\n",
    "\"\"\"\n",
    "2진수| 10진수 | shift 횟수\n",
    "--------------------------\n",
    "0001 |1       |0\n",
    "0010 |2       |1\n",
    "0100 |4       |2\n",
    "1000 |8       |3\n",
    "\"\"\""
   ]
  },
  {
   "cell_type": "markdown",
   "id": "7e2d708b-21cd-4b92-befd-93fd63c72648",
   "metadata": {},
   "source": [
    "3개의 원소를 가지고 모든 경우의 수는 2^3"
   ]
  },
  {
   "cell_type": "code",
   "execution_count": null,
   "id": "fa405f2b-cda8-4d46-8f17-83918e7944ed",
   "metadata": {},
   "outputs": [],
   "source": [
    "for i in range(1 << N):\n",
    "    for j in range(N:\n",
    "        if i & (1<<j):\n",
    "            print(arr[j],end = ' ')\n",
    "    print()"
   ]
  },
  {
   "cell_type": "markdown",
   "id": "b369df44-e3ad-46ed-b67c-1b8be0922be3",
   "metadata": {},
   "source": [
    "3번째 경우\n",
    "3& (1 << 0) ->\n",
    "3& (1 << 1) ->\n",
    "3& (1 << 2) ->\n"
   ]
  }
 ],
 "metadata": {
  "kernelspec": {
   "display_name": "Python 3 (ipykernel)",
   "language": "python",
   "name": "python3"
  },
  "language_info": {
   "codemirror_mode": {
    "name": "ipython",
    "version": 3
   },
   "file_extension": ".py",
   "mimetype": "text/x-python",
   "name": "python",
   "nbconvert_exporter": "python",
   "pygments_lexer": "ipython3",
   "version": "3.9.13"
  }
 },
 "nbformat": 4,
 "nbformat_minor": 5
}
